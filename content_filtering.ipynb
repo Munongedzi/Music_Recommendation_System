{
  "nbformat": 4,
  "nbformat_minor": 0,
  "metadata": {
    "colab": {
      "provenance": [],
      "authorship_tag": "ABX9TyMGsZCyROe0UN7IfnFXriCu",
      "include_colab_link": true
    },
    "kernelspec": {
      "name": "python3",
      "display_name": "Python 3"
    },
    "language_info": {
      "name": "python"
    }
  },
  "cells": [
    {
      "cell_type": "markdown",
      "metadata": {
        "id": "view-in-github",
        "colab_type": "text"
      },
      "source": [
        "<a href=\"https://colab.research.google.com/github/Munongedzi/Music_Recommendation_System/blob/main/content_filtering.ipynb\" target=\"_parent\"><img src=\"https://colab.research.google.com/assets/colab-badge.svg\" alt=\"Open In Colab\"/></a>"
      ]
    },
    {
      "cell_type": "markdown",
      "source": [
        "First, we download a dataset with Spotify song information."
      ],
      "metadata": {
        "id": "Y9BzpkyFhVck"
      }
    },
    {
      "cell_type": "code",
      "execution_count": 1,
      "metadata": {
        "colab": {
          "base_uri": "https://localhost:8080/"
        },
        "id": "mXqY7QMITAqS",
        "outputId": "d49086c0-44d8-4338-985e-d3951fcbc55e"
      },
      "outputs": [
        {
          "output_type": "stream",
          "name": "stdout",
          "text": [
            "Downloading from https://www.kaggle.com/api/v1/datasets/download/joebeachcapital/30000-spotify-songs?dataset_version_number=2...\n"
          ]
        },
        {
          "output_type": "stream",
          "name": "stderr",
          "text": [
            "100%|██████████| 3.01M/3.01M [00:00<00:00, 137MB/s]"
          ]
        },
        {
          "output_type": "stream",
          "name": "stdout",
          "text": [
            "Extracting files...\n",
            "Using dataset: /root/.cache/kagglehub/datasets/joebeachcapital/30000-spotify-songs/versions/2/spotify_songs.csv\n"
          ]
        },
        {
          "output_type": "stream",
          "name": "stderr",
          "text": [
            "\n"
          ]
        }
      ],
      "source": [
        "import kagglehub\n",
        "import os\n",
        "\n",
        "# Download dataset\n",
        "datasets_path = kagglehub.dataset_download(\"joebeachcapital/30000-spotify-songs\")\n",
        "dataset_path = os.path.join(datasets_path, os.listdir(datasets_path)[0])\n",
        "print(\"Using dataset: \" + dataset_path)"
      ]
    },
    {
      "cell_type": "markdown",
      "source": [
        "Next, we fix the dataset. Empty values are dropped from the dataset. Numeric values are scaled to a value between 0 and 1. This is necessary for building the similarity matrix."
      ],
      "metadata": {
        "id": "-OYvfK4dfWVR"
      }
    },
    {
      "cell_type": "code",
      "source": [
        "import pandas as pd\n",
        "from sklearn.preprocessing import MinMaxScaler\n",
        "\n",
        "spotify_data = pd.read_csv(dataset_path)\n",
        "\n",
        "# Drop empty values from the dataset\n",
        "spotify_data = spotify_data.dropna(subset=['track_name', 'track_artist', 'track_album_name'])\n",
        "print(\"First track entries:\")\n",
        "print(spotify_data.head())\n",
        "\n",
        "#Scale numeric values\n",
        "scalar = MinMaxScaler()\n",
        "numeric_cols = [\n",
        "    'track_popularity', 'danceability', 'energy', 'loudness', 'speechiness',\n",
        "    'acousticness', 'instrumentalness', 'liveness', 'valence', 'tempo'\n",
        "]\n",
        "spotify_data[numeric_cols] = scalar.fit_transform(spotify_data[numeric_cols])"
      ],
      "metadata": {
        "colab": {
          "base_uri": "https://localhost:8080/"
        },
        "id": "gvKfvaHHU1ok",
        "outputId": "aaed8de6-320b-47b8-bf84-7d56dfe25a83"
      },
      "execution_count": 2,
      "outputs": [
        {
          "output_type": "stream",
          "name": "stdout",
          "text": [
            "First track entries:\n",
            "                 track_id                                         track_name  \\\n",
            "0  6f807x0ima9a1j3VPbc7VN  I Don't Care (with Justin Bieber) - Loud Luxur...   \n",
            "1  0r7CVbZTWZgbTCYdfa2P31                    Memories - Dillon Francis Remix   \n",
            "2  1z1Hg7Vb0AhHDiEmnDE79l                    All the Time - Don Diablo Remix   \n",
            "3  75FpbthrwQmzHlBJLuGdC7                  Call You Mine - Keanu Silva Remix   \n",
            "4  1e8PAfcKUYoKkxPhrHqw4x            Someone You Loved - Future Humans Remix   \n",
            "\n",
            "       track_artist  track_popularity          track_album_id  \\\n",
            "0        Ed Sheeran                66  2oCs0DGTsRO98Gh5ZSl2Cx   \n",
            "1          Maroon 5                67  63rPSO264uRjW1X5E6cWv6   \n",
            "2      Zara Larsson                70  1HoSmj2eLcsrR0vE9gThr4   \n",
            "3  The Chainsmokers                60  1nqYsOef1yKKuGOVchbsk6   \n",
            "4     Lewis Capaldi                69  7m7vv9wlQ4i0LFuJiE2zsQ   \n",
            "\n",
            "                                    track_album_name track_album_release_date  \\\n",
            "0  I Don't Care (with Justin Bieber) [Loud Luxury...               2019-06-14   \n",
            "1                    Memories (Dillon Francis Remix)               2019-12-13   \n",
            "2                    All the Time (Don Diablo Remix)               2019-07-05   \n",
            "3                        Call You Mine - The Remixes               2019-07-19   \n",
            "4            Someone You Loved (Future Humans Remix)               2019-03-05   \n",
            "\n",
            "  playlist_name             playlist_id playlist_genre  ... key  loudness  \\\n",
            "0     Pop Remix  37i9dQZF1DXcZDD7cfEKhW            pop  ...   6    -2.634   \n",
            "1     Pop Remix  37i9dQZF1DXcZDD7cfEKhW            pop  ...  11    -4.969   \n",
            "2     Pop Remix  37i9dQZF1DXcZDD7cfEKhW            pop  ...   1    -3.432   \n",
            "3     Pop Remix  37i9dQZF1DXcZDD7cfEKhW            pop  ...   7    -3.778   \n",
            "4     Pop Remix  37i9dQZF1DXcZDD7cfEKhW            pop  ...   1    -4.672   \n",
            "\n",
            "   mode  speechiness  acousticness  instrumentalness  liveness  valence  \\\n",
            "0     1       0.0583        0.1020          0.000000    0.0653    0.518   \n",
            "1     1       0.0373        0.0724          0.004210    0.3570    0.693   \n",
            "2     0       0.0742        0.0794          0.000023    0.1100    0.613   \n",
            "3     1       0.1020        0.0287          0.000009    0.2040    0.277   \n",
            "4     1       0.0359        0.0803          0.000000    0.0833    0.725   \n",
            "\n",
            "     tempo  duration_ms  \n",
            "0  122.036       194754  \n",
            "1   99.972       162600  \n",
            "2  124.008       176616  \n",
            "3  121.956       169093  \n",
            "4  123.976       189052  \n",
            "\n",
            "[5 rows x 23 columns]\n"
          ]
        }
      ]
    },
    {
      "cell_type": "markdown",
      "source": [
        "Next, we build the similarity matrix. Similarity is measured with cosine similarity:\n",
        "https://en.wikipedia.org/wiki/Cosine_similarity"
      ],
      "metadata": {
        "id": "JVQtYSgLiNun"
      }
    },
    {
      "cell_type": "code",
      "source": [
        "from sklearn.metrics.pairwise import cosine_similarity\n",
        "\n",
        "# Build similarity matrix\n",
        "song_features = spotify_data[numeric_cols]\n",
        "similarity_matrix = cosine_similarity(song_features)\n",
        "similarity_df = pd.DataFrame(similarity_matrix, index=spotify_data['track_id'], columns=spotify_data['track_id'])"
      ],
      "metadata": {
        "id": "ePt7c4BucCOy"
      },
      "execution_count": 3,
      "outputs": []
    },
    {
      "cell_type": "markdown",
      "source": [
        "Finally, we ask the user for a song name, verify that it exists in the dataset, and fetch similar songs from the similarity matrix."
      ],
      "metadata": {
        "id": "8DdLFSvmjuLL"
      }
    },
    {
      "cell_type": "code",
      "source": [
        "song_name = input(\"Enter name of song: \").lower()\n",
        "matching_songs = spotify_data[spotify_data['track_name'].str.lower() == song_name]\n",
        "\n",
        "if len(matching_songs) > 0:\n",
        "    if len(matching_songs) > 1:\n",
        "        print(\"Multiple songs found with that name:\")\n",
        "        for i, (_, row) in enumerate(matching_songs.iterrows(), start=1):\n",
        "            print(f\"{i}: {row['track_name']} by {row['track_artist']} from {row['track_album_name']}\")\n",
        "        selected_index = int(input(\"Enter the index of the desired song: \"))\n",
        "        selected_song_id = matching_songs.iloc[selected_index-1]['track_id']\n",
        "    else:\n",
        "        selected_song_id = matching_songs.iloc[0]['track_id']\n",
        "\n",
        "    # Get the top similar songs based on the similarity matrix\n",
        "    similar_songs = similarity_df.loc[selected_song_id].sort_values(ascending=False)\n",
        "    top_similar_songs = similar_songs[1:11]  # Exclude the song itself (the first entry)\n",
        "\n",
        "    print(\"Top 10 most similar songs:\")\n",
        "\n",
        "    # Print details for each similar song\n",
        "    for song_id, similarity_score in top_similar_songs.items():\n",
        "        song_details = spotify_data[spotify_data['track_id'] == song_id].iloc[0]\n",
        "        print(f\"({similarity_score:.4f}) {song_details['track_name']} by {song_details['track_artist']} \"\n",
        "              f\"from {song_details['track_album_name']}\")\n",
        "else:\n",
        "    print(f\"Error: Song '{song_name}' not found in the dataset.\")"
      ],
      "metadata": {
        "colab": {
          "base_uri": "https://localhost:8080/"
        },
        "id": "nir3GdtHdNrt",
        "outputId": "d7b76fb7-c1bd-4533-f017-884cba0bd054"
      },
      "execution_count": 6,
      "outputs": [
        {
          "output_type": "stream",
          "name": "stdout",
          "text": [
            "Enter name of song: Clocks\n",
            "Multiple songs found with that name:\n",
            "1: Clocks by Coldplay from A Rush of Blood to the Head\n",
            "2: Clocks by Pickin' On Series from The Fantastic Pickin' on Series Bluegrass Sampler, Vol. 2\n",
            "Enter the index of the desired song: 1\n",
            "Top 10 most similar songs:\n",
            "(0.9968) Fuiste Tú by Ricardo Arjona from Independiente + Demos\n",
            "(0.9967) Ocean (feat. Khalid) by Martin Garrix from Ocean (feat. Khalid)\n",
            "(0.9967) Ocean (feat. Khalid) by Martin Garrix from Ocean (feat. Khalid)\n",
            "(0.9955) Livin' Thing by Electric Light Orchestra from A New World Record\n",
            "(0.9953) Hallucinogenics by Matt Maeson from Bank On The Funeral\n",
            "(0.9940) Twenty Eight by The Weeknd from Trilogy\n",
            "(0.9928) Non Avere Paura by Tommaso Paradiso from Non Avere Paura\n",
            "(0.9927) The Day You Said Goodnight by Hale from Hale\n",
            "(0.9923) When I See You Smile by Bad English from Bad English\n",
            "(0.9923) When I See You Smile by Bad English from Bad English\n"
          ]
        }
      ]
    }
  ]
}