{
  "nbformat": 4,
  "nbformat_minor": 0,
  "metadata": {
    "colab": {
      "provenance": [],
      "include_colab_link": true
    },
    "kernelspec": {
      "name": "python3",
      "display_name": "Python 3"
    },
    "language_info": {
      "name": "python"
    }
  },
  "cells": [
    {
      "cell_type": "markdown",
      "metadata": {
        "id": "view-in-github",
        "colab_type": "text"
      },
      "source": [
        "<a href=\"https://colab.research.google.com/github/Munongedzi/Music_Recommendation_System/blob/content_filtering/content_filtering.ipynb\" target=\"_parent\"><img src=\"https://colab.research.google.com/assets/colab-badge.svg\" alt=\"Open In Colab\"/></a>"
      ]
    },
    {
      "cell_type": "markdown",
      "source": [
        "First, we download a dataset with Spotify song information."
      ],
      "metadata": {
        "id": "Y9BzpkyFhVck"
      }
    },
    {
      "cell_type": "code",
      "execution_count": 5,
      "metadata": {
        "colab": {
          "base_uri": "https://localhost:8080/"
        },
        "id": "mXqY7QMITAqS",
        "outputId": "026ca844-2b62-4d6c-efa2-9d7fff0518bf"
      },
      "outputs": [
        {
          "output_type": "stream",
          "name": "stdout",
          "text": [
            "Using dataset: /root/.cache/kagglehub/datasets/joebeachcapital/30000-spotify-songs/versions/2/spotify_songs.csv\n"
          ]
        }
      ],
      "source": [
        "import kagglehub\n",
        "import os\n",
        "\n",
        "# Download dataset\n",
        "datasets_path = kagglehub.dataset_download(\"joebeachcapital/30000-spotify-songs\")\n",
        "dataset_path = os.path.join(datasets_path, os.listdir(datasets_path)[0])\n",
        "print(\"Using dataset: \" + dataset_path)"
      ]
    },
    {
      "cell_type": "markdown",
      "source": [
        "Next, we fix the dataset. Empty values are dropped from the dataset. Numeric values are scaled to a value between 0 and 1. This is necessary for building the similarity matrix."
      ],
      "metadata": {
        "id": "-OYvfK4dfWVR"
      }
    },
    {
      "cell_type": "code",
      "source": [
        "import pandas as pd\n",
        "from sklearn.preprocessing import MinMaxScaler\n",
        "\n",
        "spotify_data = pd.read_csv(dataset_path)\n",
        "\n",
        "# Drop empty values from the dataset\n",
        "spotify_data = spotify_data.dropna(subset=['track_name', 'track_artist', 'track_album_name'])\n",
        "print(\"First track entries:\")\n",
        "print(spotify_data.head())\n",
        "\n",
        "#Scale numeric values\n",
        "scalar = MinMaxScaler()\n",
        "numeric_cols = [\n",
        "    'track_popularity', 'danceability', 'energy', 'loudness', 'speechiness',\n",
        "    'acousticness', 'instrumentalness', 'liveness', 'valence', 'tempo'\n",
        "]\n",
        "spotify_data[numeric_cols] = scalar.fit_transform(spotify_data[numeric_cols])"
      ],
      "metadata": {
        "colab": {
          "base_uri": "https://localhost:8080/"
        },
        "id": "gvKfvaHHU1ok",
        "outputId": "8df059aa-96e0-445b-eab6-cf497b203eba"
      },
      "execution_count": 9,
      "outputs": [
        {
          "output_type": "stream",
          "name": "stdout",
          "text": [
            "First track entries:\n",
            "                 track_id                                         track_name  \\\n",
            "0  6f807x0ima9a1j3VPbc7VN  I Don't Care (with Justin Bieber) - Loud Luxur...   \n",
            "1  0r7CVbZTWZgbTCYdfa2P31                    Memories - Dillon Francis Remix   \n",
            "2  1z1Hg7Vb0AhHDiEmnDE79l                    All the Time - Don Diablo Remix   \n",
            "3  75FpbthrwQmzHlBJLuGdC7                  Call You Mine - Keanu Silva Remix   \n",
            "4  1e8PAfcKUYoKkxPhrHqw4x            Someone You Loved - Future Humans Remix   \n",
            "\n",
            "       track_artist  track_popularity          track_album_id  \\\n",
            "0        Ed Sheeran                66  2oCs0DGTsRO98Gh5ZSl2Cx   \n",
            "1          Maroon 5                67  63rPSO264uRjW1X5E6cWv6   \n",
            "2      Zara Larsson                70  1HoSmj2eLcsrR0vE9gThr4   \n",
            "3  The Chainsmokers                60  1nqYsOef1yKKuGOVchbsk6   \n",
            "4     Lewis Capaldi                69  7m7vv9wlQ4i0LFuJiE2zsQ   \n",
            "\n",
            "                                    track_album_name track_album_release_date  \\\n",
            "0  I Don't Care (with Justin Bieber) [Loud Luxury...               2019-06-14   \n",
            "1                    Memories (Dillon Francis Remix)               2019-12-13   \n",
            "2                    All the Time (Don Diablo Remix)               2019-07-05   \n",
            "3                        Call You Mine - The Remixes               2019-07-19   \n",
            "4            Someone You Loved (Future Humans Remix)               2019-03-05   \n",
            "\n",
            "  playlist_name             playlist_id playlist_genre  ... key  loudness  \\\n",
            "0     Pop Remix  37i9dQZF1DXcZDD7cfEKhW            pop  ...   6    -2.634   \n",
            "1     Pop Remix  37i9dQZF1DXcZDD7cfEKhW            pop  ...  11    -4.969   \n",
            "2     Pop Remix  37i9dQZF1DXcZDD7cfEKhW            pop  ...   1    -3.432   \n",
            "3     Pop Remix  37i9dQZF1DXcZDD7cfEKhW            pop  ...   7    -3.778   \n",
            "4     Pop Remix  37i9dQZF1DXcZDD7cfEKhW            pop  ...   1    -4.672   \n",
            "\n",
            "   mode  speechiness  acousticness  instrumentalness  liveness  valence  \\\n",
            "0     1       0.0583        0.1020          0.000000    0.0653    0.518   \n",
            "1     1       0.0373        0.0724          0.004210    0.3570    0.693   \n",
            "2     0       0.0742        0.0794          0.000023    0.1100    0.613   \n",
            "3     1       0.1020        0.0287          0.000009    0.2040    0.277   \n",
            "4     1       0.0359        0.0803          0.000000    0.0833    0.725   \n",
            "\n",
            "     tempo  duration_ms  \n",
            "0  122.036       194754  \n",
            "1   99.972       162600  \n",
            "2  124.008       176616  \n",
            "3  121.956       169093  \n",
            "4  123.976       189052  \n",
            "\n",
            "[5 rows x 23 columns]\n"
          ]
        },
        {
          "output_type": "stream",
          "name": "stderr",
          "text": [
            "<ipython-input-9-e67a53620532>:17: SettingWithCopyWarning: \n",
            "A value is trying to be set on a copy of a slice from a DataFrame.\n",
            "Try using .loc[row_indexer,col_indexer] = value instead\n",
            "\n",
            "See the caveats in the documentation: https://pandas.pydata.org/pandas-docs/stable/user_guide/indexing.html#returning-a-view-versus-a-copy\n",
            "  spotify_data[numeric_cols] = scalar.fit_transform(spotify_data[numeric_cols])\n"
          ]
        }
      ]
    },
    {
      "cell_type": "markdown",
      "source": [
        "Next, we build the similarity matrix. Similarity is measured with cosine similarity:\n",
        "https://en.wikipedia.org/wiki/Cosine_similarity"
      ],
      "metadata": {
        "id": "JVQtYSgLiNun"
      }
    },
    {
      "cell_type": "code",
      "source": [
        "from sklearn.metrics.pairwise import cosine_similarity\n",
        "\n",
        "# Build similarity matrix\n",
        "song_features = spotify_data[numeric_cols]\n",
        "similarity_matrix = cosine_similarity(song_features)\n",
        "similarity_df = pd.DataFrame(similarity_matrix, index=spotify_data['track_id'], columns=spotify_data['track_id'])"
      ],
      "metadata": {
        "id": "ePt7c4BucCOy"
      },
      "execution_count": 10,
      "outputs": []
    },
    {
      "cell_type": "code",
      "source": [
        "import random\n",
        "\n",
        "# Simulate user data\n",
        "user_data = pd.DataFrame({\n",
        "    'user_id': [1] * 20 + [2] * 20,  # Two users with 20 songs each\n",
        "    'song_id': random.choices(spotify_data['track_id'].unique(), k=40),\n",
        "    'freq': [random.randint(1, 5) for _ in range(40)]  # Random listening frequency\n",
        "})\n"
      ],
      "metadata": {
        "id": "kjV3541IsVTy"
      },
      "execution_count": 16,
      "outputs": []
    },
    {
      "cell_type": "code",
      "source": [
        "from sklearn.metrics.pairwise import cosine_similarity\n",
        "\n",
        "class CollaborativeFiltering:\n",
        "    def __init__(self, user_data):\n",
        "        self.user_data = user_data\n",
        "        self.user_song_matrix = None\n",
        "        self.similarity_matrix = None\n",
        "\n",
        "    def create_user_song_matrix(self):\n",
        "        \"\"\"Create user-song interaction matrix.\"\"\"\n",
        "        self.user_song_matrix = pd.pivot_table(\n",
        "            self.user_data,\n",
        "            values='freq',\n",
        "            index='user_id',\n",
        "            columns='song_id',\n",
        "            fill_value=0\n",
        "        )\n",
        "        return self.user_song_matrix\n",
        "\n",
        "    def compute_user_similarity(self):\n",
        "        \"\"\"Compute user similarity matrix.\"\"\"\n",
        "        if self.user_song_matrix is None:\n",
        "            self.create_user_song_matrix()\n",
        "        self.similarity_matrix = cosine_similarity(self.user_song_matrix)\n",
        "        return self.similarity_matrix\n",
        "\n",
        "    def recommend_songs(self, user_id, content_based_songs, top_n=10):\n",
        "        \"\"\"Recommend songs for a user based on collaborative filtering.\"\"\"\n",
        "        if self.similarity_matrix is None:\n",
        "            self.compute_user_similarity()\n",
        "\n",
        "        # Get the user's row in the matrix\n",
        "        user_index = self.user_song_matrix.index.get_loc(user_id)\n",
        "\n",
        "        # Find similar users\n",
        "        similar_users = self.similarity_matrix[user_index]\n",
        "        similar_user_indices = similar_users.argsort()[::-1][1:]  # Exclude the user itself\n",
        "\n",
        "        # Collect songs from similar users\n",
        "        recommended_songs = set()\n",
        "        for other_user_index in similar_user_indices:\n",
        "            other_user_id = self.user_song_matrix.index[other_user_index]\n",
        "            other_user_songs = self.user_song_matrix.columns[\n",
        "                self.user_song_matrix.loc[other_user_id] > 0\n",
        "            ].tolist()\n",
        "            recommended_songs.update(other_user_songs)\n",
        "\n",
        "        # Filter out songs already interacted with by the user\n",
        "        user_songs = self.user_song_matrix.columns[self.user_song_matrix.loc[user_id] > 0].tolist()\n",
        "        recommended_songs = [song for song in recommended_songs if song not in user_songs]\n",
        "\n",
        "        # Prioritize content-based recommendations\n",
        "        ranked_recommendations = [\n",
        "            song for song in content_based_songs if song in recommended_songs\n",
        "        ] + [song for song in recommended_songs if song not in content_based_songs]\n",
        "\n",
        "        return ranked_recommendations[:top_n]\n"
      ],
      "metadata": {
        "id": "pJ5aWFIPo38z"
      },
      "execution_count": 11,
      "outputs": []
    },
    {
      "cell_type": "code",
      "source": [
        "def hybrid_recommendation(song_name, user_id, top_n=10):\n",
        "    # Find the song ID from the song name\n",
        "    song_id = spotify_data.loc[spotify_data['track_name'].str.lower() == song_name.lower(), 'track_id'].values\n",
        "    if len(song_id) == 0:\n",
        "        raise ValueError(\"Song not found in the dataset.\")\n",
        "    song_id = song_id[0]\n",
        "\n",
        "    # Content-based recommendations\n",
        "    content_recommendations = (\n",
        "        similarity_df[song_id]\n",
        "        .sort_values(ascending=False)\n",
        "        .head(top_n + 1)  # Include the input song itself\n",
        "        .iloc[1:]  # Exclude the input song\n",
        "    )\n",
        "    content_based_songs = content_recommendations.index.tolist()\n",
        "    content_similarity_scores = content_recommendations.values.tolist()\n",
        "\n",
        "    # Collaborative filtering recommendations\n",
        "    collaborative_filter = CollaborativeFiltering(user_data)\n",
        "    collaborative_recommendations = collaborative_filter.recommend_songs(user_id, content_based_songs, top_n=top_n)\n",
        "\n",
        "    # Combine recommendations (removing duplicates while maintaining order)\n",
        "    combined_recommendations = list(dict.fromkeys(content_based_songs + collaborative_recommendations))\n",
        "    return combined_recommendations[:top_n], content_based_songs, content_similarity_scores, collaborative_recommendations\n"
      ],
      "metadata": {
        "id": "pDbbNYU8wnZX"
      },
      "execution_count": 21,
      "outputs": []
    },
    {
      "cell_type": "markdown",
      "source": [
        "Finally, we ask the user for a song name, verify that it exists in the dataset, and fetch similar songs from the similarity matrix."
      ],
      "metadata": {
        "id": "8DdLFSvmjuLL"
      }
    },
    {
      "cell_type": "code",
      "source": [
        "# Example driver code\n",
        "if __name__ == \"__main__\":\n",
        "    user_id = 1  # Example user ID\n",
        "    input_song = input(\"Enter a song name: \")\n",
        "\n",
        "    try:\n",
        "        # Get recommendations\n",
        "        recommendations, content_based, content_scores, collaborative = hybrid_recommendation(input_song, user_id)\n",
        "\n",
        "        # Print categorized recommendations\n",
        "        print(\"\\nRecommended Songs:\\n\")\n",
        "\n",
        "        print(\"Content-Based Filtering Recommendations (with similarity scores):\")\n",
        "        for song_id, score in zip(content_based, content_scores):\n",
        "            song_name = spotify_data.loc[spotify_data['track_id'] == song_id, 'track_name'].values[0]\n",
        "            print(f\"- {song_name} (Similarity: {score:.2f})\")\n",
        "\n",
        "        print(\"\\nCollaborative Filtering Recommendations:\")\n",
        "        for song_id in collaborative:\n",
        "            song_name = spotify_data.loc[spotify_data['track_id'] == song_id, 'track_name'].values[0]\n",
        "            print(f\"- {song_name}\")\n",
        "\n",
        "        print(\"\\nCombined Hybrid Recommendations:\")\n",
        "        for song_id in recommendations:\n",
        "            song_name = spotify_data.loc[spotify_data['track_id'] == song_id, 'track_name'].values[0]\n",
        "            print(f\"- {song_name}\")\n",
        "\n",
        "    except ValueError as e:\n",
        "        print(str(e))\n"
      ],
      "metadata": {
        "colab": {
          "base_uri": "https://localhost:8080/"
        },
        "id": "SgtFABHJw0NV",
        "outputId": "b59b9d3d-da11-4a30-e237-719d497531ab"
      },
      "execution_count": 23,
      "outputs": [
        {
          "output_type": "stream",
          "name": "stdout",
          "text": [
            "Enter a song name: hello\n",
            "\n",
            "Recommended Songs:\n",
            "\n",
            "Content-Based Filtering Recommendations (with similarity scores):\n",
            "- Head In The Clouds (Similarity: 1.00)\n",
            "- Wanted (Similarity: 1.00)\n",
            "- If That's Alright (Similarity: 1.00)\n",
            "- If That's Alright (Similarity: 1.00)\n",
            "- Amanda (Similarity: 1.00)\n",
            "- White Flag (Similarity: 1.00)\n",
            "- Yellow Ledbetter (Similarity: 1.00)\n",
            "- Wind Of Change (Similarity: 1.00)\n",
            "- Right My Wrongs (Similarity: 0.99)\n",
            "- Oceans (Similarity: 0.99)\n",
            "\n",
            "Collaborative Filtering Recommendations:\n",
            "- Piscininha Amor\n",
            "- I'll Never Forget You\n",
            "- Dreaming My Dreams\n",
            "- Rudolph The Red-Nosed Reindeer\n",
            "- Tradición\n",
            "- Drop The Bomb On 'Em\n",
            "- Up\n",
            "- Odessa\n",
            "- All I Have\n",
            "- Chilango Blues\n",
            "\n",
            "Combined Hybrid Recommendations:\n",
            "- Head In The Clouds\n",
            "- Wanted\n",
            "- If That's Alright\n",
            "- Amanda\n",
            "- White Flag\n",
            "- Yellow Ledbetter\n",
            "- Wind Of Change\n",
            "- Right My Wrongs\n",
            "- Oceans\n",
            "- Piscininha Amor\n"
          ]
        }
      ]
    }
  ]
}